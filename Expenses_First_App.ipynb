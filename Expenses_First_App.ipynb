{
  "nbformat": 4,
  "nbformat_minor": 0,
  "metadata": {
    "colab": {
      "provenance": [],
      "authorship_tag": "ABX9TyP8FyNkuk7HqzKNevO10m2S",
      "include_colab_link": true
    },
    "kernelspec": {
      "name": "python3",
      "display_name": "Python 3"
    },
    "language_info": {
      "name": "python"
    }
  },
  "cells": [
    {
      "cell_type": "markdown",
      "metadata": {
        "id": "view-in-github",
        "colab_type": "text"
      },
      "source": [
        "<a href=\"https://colab.research.google.com/github/gonzarodriguez89/hello-world/blob/master/Expenses_First_App.ipynb\" target=\"_parent\"><img src=\"https://colab.research.google.com/assets/colab-badge.svg\" alt=\"Open In Colab\"/></a>"
      ]
    },
    {
      "cell_type": "code",
      "execution_count": 32,
      "metadata": {
        "id": "SKhyB39hqLJ2"
      },
      "outputs": [],
      "source": [
        "#Description: A simple expenses tracker"
      ]
    },
    {
      "cell_type": "code",
      "source": [
        "#Import the libraries\n",
        "import numpy as np\n",
        "import pandas as pd\n",
        "from datetime import date"
      ],
      "metadata": {
        "id": "C-iPbAI0qRkG"
      },
      "execution_count": 33,
      "outputs": []
    },
    {
      "cell_type": "code",
      "source": [
        "#Create Empty Lists\n",
        "GOODS_OR_SERVICES = []\n",
        "PRICES = []\n",
        "DATES = []\n",
        "EXPENSE_TYPES = []\n",
        "INCOME_TYPES = []"
      ],
      "metadata": {
        "id": "yiHZJo3Vqasn"
      },
      "execution_count": 34,
      "outputs": []
    },
    {
      "cell_type": "code",
      "source": [
        "#Create a function to add the expenses to the lists and organise the data\n",
        "def add_expense(good_or_service, price, date, expense_type, income_type):\n",
        "  GOODS_OR_SERVICES.append(good_or_service)\n",
        "  PRICES.append(price)\n",
        "  DATES.append(date)\n",
        "  EXPENSE_TYPES.append(expense_type)\n",
        "  INCOME_TYPES.append(income_type)"
      ],
      "metadata": {
        "id": "B-CCLOqwqtiQ"
      },
      "execution_count": 35,
      "outputs": []
    },
    {
      "cell_type": "code",
      "source": [
        "#Main program\n",
        "\n",
        "option = -1 #This will be the users option or choice or input\n",
        "while(option != 0):\n",
        "  #Create the option menu\n",
        "  print('Welcome to the simple expense tracker:')\n",
        "  print('1. Add Expense')\n",
        "  print('2. Add Income')\n",
        "  print('3. Show and Save The Expense Report')\n",
        "  print('0. Exit')\n",
        "  option = int(input('Choose an option:\\n'))\n",
        "\n",
        "  #Print a new line\n",
        "  print()\n",
        "  #Check for the users choice or option or input\n",
        "  if option == 0:\n",
        "    print('Existing the program')\n",
        "    break\n",
        "  \n",
        "  elif option == 1:\n",
        "    print('Adding Expense')\n",
        "    expense_type = input('Expense Type: ')\n",
        "  \n",
        "  elif option == 2:\n",
        "    print('Adding Income')\n",
        "    income_type = input('Income Type: ')\n",
        "  \n",
        "  elif option == 3:\n",
        "    #Create a data frame and add the expenses\n",
        "    expense_report = pd.DataFrame()\n",
        "    expense_report['GOODS_OR_SERVICES'] = GOODS_OR_SERVICES\n",
        "    expense_report['PRICES'] = PRICES\n",
        "    expense_report['DATES'] = DATES\n",
        "    expense_report['EXPENSE_TYPES'] = EXPENSE_TYPES\n",
        "    expense_report['INCOME_TYPES'] = INCOME_TYPES\n",
        "    #Save the expense report\n",
        "    expense_report.to_csv('income_&_expenses.csv')\n",
        "    #Show the expense report\n",
        "    print(expense_report)\n",
        "  \n",
        "  else:\n",
        "    print('You chose an incorrect option. Please choose 0, 1, 2 or 3')\n",
        "\n",
        "  #Allow the user to enter the good or service and the price\n",
        "  if option == 1:\n",
        "    good_or_service = input('Enter the good or service for the expense type '+expense_type+':\\n')\n",
        "    price = - float(input('Enter the price of the good or service:\\n'))\n",
        "    today = date.today()\n",
        "    income_type = ''\n",
        "    add_expense(good_or_service,price,date,expense_type,income_type)\n",
        "    #Print a new line\n",
        "    print('Expense Added')\n",
        "  elif option == 2:\n",
        "    good_or_service = input('Enter the good or service for the income type '+income_type+':\\n')\n",
        "    price = float(input('Enter the price of the good or service:\\n'))\n",
        "    today = date.today()\n",
        "    expense_type = ''\n",
        "    add_expense(good_or_service,price,date,expense_type,income_type)\n",
        "    #Print a new line\n",
        "    print('Income Added')"
      ],
      "metadata": {
        "colab": {
          "base_uri": "https://localhost:8080/"
        },
        "id": "LP9FYa0TrDv9",
        "outputId": "b7f7458a-5363-449c-bdbe-b1f61199aae4"
      },
      "execution_count": 36,
      "outputs": [
        {
          "output_type": "stream",
          "name": "stdout",
          "text": [
            "Welcome to the simple expense tracker:\n",
            "1. Add Expense\n",
            "2. Add Income\n",
            "3. Show and Save The Expense Report\n",
            "0. Exit\n",
            "Choose an option:\n",
            "1\n",
            "\n",
            "Adding Expense\n",
            "Expense Type: Food\n",
            "Enter the good or service for the expense type Food:\n",
            "Supermarket\n",
            "Enter the price of the good or service:\n",
            "258.65\n",
            "Expense Added\n",
            "Welcome to the simple expense tracker:\n",
            "1. Add Expense\n",
            "2. Add Income\n",
            "3. Show and Save The Expense Report\n",
            "0. Exit\n",
            "Choose an option:\n",
            "1\n",
            "\n",
            "Adding Expense\n",
            "Expense Type: Internet\n",
            "Enter the good or service for the expense type Internet:\n",
            "Aussiebroadband\n",
            "Enter the price of the good or service:\n",
            "99\n",
            "Expense Added\n",
            "Welcome to the simple expense tracker:\n",
            "1. Add Expense\n",
            "2. Add Income\n",
            "3. Show and Save The Expense Report\n",
            "0. Exit\n",
            "Choose an option:\n",
            "2\n",
            "\n",
            "Adding Income\n",
            "Income Type: Salary\n",
            "Enter the good or service for the income type Salary:\n",
            "2179.23\n",
            "Enter the price of the good or service:\n",
            "2179.23\n",
            "Income Added\n",
            "Welcome to the simple expense tracker:\n",
            "1. Add Expense\n",
            "2. Add Income\n",
            "3. Show and Save The Expense Report\n",
            "0. Exit\n",
            "Choose an option:\n",
            "1\n",
            "\n",
            "Adding Expense\n",
            "Expense Type: Supermarket\n",
            "Enter the good or service for the expense type Supermarket:\n",
            "Coles\n",
            "Enter the price of the good or service:\n",
            "50\n",
            "Expense Added\n",
            "Welcome to the simple expense tracker:\n",
            "1. Add Expense\n",
            "2. Add Income\n",
            "3. Show and Save The Expense Report\n",
            "0. Exit\n",
            "Choose an option:\n",
            "3\n",
            "\n",
            "  GOODS_OR_SERVICES   PRICES                    DATES EXPENSE_TYPES  \\\n",
            "0       Supermarket  -258.65  <class 'datetime.date'>          Food   \n",
            "1   Aussiebroadband   -99.00  <class 'datetime.date'>      Internet   \n",
            "2           2179.23  2179.23  <class 'datetime.date'>                 \n",
            "3             Coles   -50.00  <class 'datetime.date'>   Supermarket   \n",
            "\n",
            "  INCOME_TYPES  \n",
            "0               \n",
            "1               \n",
            "2       Salary  \n",
            "3               \n",
            "Welcome to the simple expense tracker:\n",
            "1. Add Expense\n",
            "2. Add Income\n",
            "3. Show and Save The Expense Report\n",
            "0. Exit\n",
            "Choose an option:\n",
            "0\n",
            "\n",
            "Existing the program\n"
          ]
        }
      ]
    }
  ]
}